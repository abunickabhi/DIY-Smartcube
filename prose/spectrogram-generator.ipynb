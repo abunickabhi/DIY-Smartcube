{
 "cells": [
  {
   "cell_type": "markdown",
   "source": [
    "## Synthetic Audio Generation\r\n",
    "Prior to investing significant resources in pcb design, it was prudent to develop a synthetic model of the ideal audio output of the DIY Supercube. This model consists of a synthetic audio generator that, when given a specific move sequence, generates a `.wav` file consisting of the distinct time series tones that the DIY Supercube would theoretically produce. The synthetic data produced by this model then served as the first test cases for the final audio decoding model."
   ],
   "metadata": {}
  },
  {
   "cell_type": "markdown",
   "source": [
    "### Creation of an Audio Frequency <-> Face Turn Mapping\r\n",
    "The first challenge in communicating the rotational state of a Rubik's Cube over sound is determining a mapping between changes in transmitted audio frequencies and discrete face turns on the cube. Investigation focused on two potential strategies.\r\n",
    "\r\n",
    "// TODO Discuss the different types of data transmission, single frequency binary, multi-frequency presence, etc. and why I decided on a multi-band approach over a single frequency binary transmission.\r\n",
    "\r\n",
    "#### Transient Rotation-based Audio Transmission\r\n",
    "This first strategy seeks to minimize the number of discrete frequencies required to communicate changes in the cube's state. Since the cube consists of 6 faces, and each face can be turned either clockwise or counterclockwise, one could design a two-tone protocol using only 8 discrete audio frequencies to build the smart cube. The first tone would come from one of six predefined audio bands, one for each face of the cube. The second tone would come from one of two separately predefined audio bands, one for each possible direction of rotation. From this, an audio processing model could be designed to process a sequence of these two-tone pairs and reconstruct the sequence of face rotations by recording the rotated face followed by its direction of rotation.\r\n",
    "\r\n",
    "However this model presents challenges. Take for example, a speedcuber averaging 5 turns per second (common for a 12-15 second solver) with bursts up to 10 TPS. The burst TPS would require the successful transmission of 20 sequential tones within a single second - only 50ms per tone, all in the midst of additional noise from the cube's pieces hitting each other harder at the higher turn speed. And, to cap it all off, since each tone is only ever transmitted once, the audio detection model must achieve 100% tone recognition to be able to accurately reconstructed the originating move sequence. As a result, this model fails to support any sort of error correction that would make it resistant to the common challenges to data transmission through sound.\r\n",
    "\r\n",
    "However this model inherently precludes robust error checking procedures. Each tone that is not accurately detectedany of the tones are not accurately detected, the data of that particular rotation cannotit becomes impossible to entirely reconstruct the executed move sequence\r\n",
    "#### Continuous State-based Audio Transmission"
   ],
   "metadata": {}
  }
 ],
 "metadata": {
  "orig_nbformat": 4,
  "language_info": {
   "name": "python"
  }
 },
 "nbformat": 4,
 "nbformat_minor": 2
}