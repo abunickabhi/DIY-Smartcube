{
 "cells": [
  {
   "cell_type": "markdown",
   "source": [
    "# DIY Supercube: Tracking Rubik's Cube Rotations Through Sound\r\n",
    "\r\n",
    "## Current Research on Tracking Rubik's Cube Rotations\r\n",
    "\r\n",
    "### Rotary Encoders\r\n",
    "### Computer Vision\r\n",
    "### Muscle Tracking Armband\r\n",
    "\r\n"
   ],
   "metadata": {}
  },
  {
   "cell_type": "markdown",
   "source": [],
   "metadata": {}
  }
 ],
 "metadata": {
  "interpreter": {
   "hash": "b9bb1448f44d41b50ef724d977467d677366b56f1ac5b7ddcacc005f02a40cb4"
  },
  "kernelspec": {
   "display_name": "Python 3.8.2 64-bit ('venv': venv)",
   "name": "python3"
  },
  "language_info": {
   "name": "python",
   "version": ""
  },
  "orig_nbformat": 4
 },
 "nbformat": 4,
 "nbformat_minor": 2
}