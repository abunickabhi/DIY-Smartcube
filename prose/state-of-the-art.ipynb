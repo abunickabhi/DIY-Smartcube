{
 "cells": [
  {
   "cell_type": "markdown",
   "source": [
    "## Current Approaches to Rubik's Cube Move Detection\r\n",
    "![mindmap](../resources/images/mindmap.png)\r\n",
    "\r\n",
    "### Embedded Rotary Encoders.\r\n",
    "At the time of writing, there are three commercial smart cubes: the Gans 356i, the Giiker Cube, and the Go Cube. All three use an array of 6 rotary encoders (one for each face) connected to a microcontroller that converts the analog rotary readings to digital signals transmitted to a smartphone/computer via a small bluetooth radio also embedded into the cube.\r\n",
    "\r\n",
    "**Gans 356i**\r\n",
    "[![Gans 356i Internals Annotated](../resources/images/gans356i_internals_annotated.png)](https://fccid.io/2AT27-GAN-3X3/Internal-Photos/Internal-photos-4382990)\r\n",
    "*FCC ID: 2AT27-GAN-3X3 (Annotations are my own)*\r\n",
    "\r\n",
    "**Giiker Cube**\r\n",
    "TODO\r\n",
    "\r\n",
    "**Go Cube**\r\n",
    "TODO"
   ],
   "metadata": {}
  }
 ],
 "metadata": {
  "orig_nbformat": 4,
  "language_info": {
   "name": "python"
  }
 },
 "nbformat": 4,
 "nbformat_minor": 2
}